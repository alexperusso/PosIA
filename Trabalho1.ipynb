{
 "cells": [
  {
   "cell_type": "markdown",
   "metadata": {},
   "source": [
    "Instalacao de dependencias"
   ]
  },
  {
   "cell_type": "code",
   "execution_count": 1,
   "metadata": {},
   "outputs": [
    {
     "name": "stdout",
     "output_type": "stream",
     "text": [
      "Defaulting to user installation because normal site-packages is not writeable\n",
      "Collecting opencv-python\n",
      "  Downloading opencv_python-4.10.0.84-cp37-abi3-win_amd64.whl.metadata (20 kB)\n",
      "Requirement already satisfied: numpy>=1.21.2 in c:\\users\\alexp\\appdata\\roaming\\python\\python312\\site-packages (from opencv-python) (1.26.4)\n",
      "Downloading opencv_python-4.10.0.84-cp37-abi3-win_amd64.whl (38.8 MB)\n",
      "   ---------------------------------------- 0.0/38.8 MB ? eta -:--:--\n",
      "   ---------------------------------------- 0.0/38.8 MB 320.0 kB/s eta 0:02:02\n",
      "   ---------------------------------------- 0.0/38.8 MB 653.6 kB/s eta 0:01:00\n",
      "   ---------------------------------------- 0.0/38.8 MB 653.6 kB/s eta 0:01:00\n",
      "   ---------------------------------------- 0.1/38.8 MB 901.1 kB/s eta 0:00:43\n",
      "   ---------------------------------------- 0.4/38.8 MB 2.4 MB/s eta 0:00:16\n",
      "    --------------------------------------- 0.7/38.8 MB 3.4 MB/s eta 0:00:12\n",
      "   - -------------------------------------- 1.1/38.8 MB 4.3 MB/s eta 0:00:09\n",
      "   - -------------------------------------- 1.3/38.8 MB 4.5 MB/s eta 0:00:09\n",
      "   - -------------------------------------- 1.7/38.8 MB 5.4 MB/s eta 0:00:07\n",
      "   -- ------------------------------------- 2.0/38.8 MB 5.7 MB/s eta 0:00:07\n",
      "   -- ------------------------------------- 2.2/38.8 MB 5.9 MB/s eta 0:00:07\n",
      "   -- ------------------------------------- 2.5/38.8 MB 5.9 MB/s eta 0:00:07\n",
      "   -- ------------------------------------- 2.9/38.8 MB 6.4 MB/s eta 0:00:06\n",
      "   --- ------------------------------------ 3.2/38.8 MB 6.4 MB/s eta 0:00:06\n",
      "   --- ------------------------------------ 3.5/38.8 MB 6.5 MB/s eta 0:00:06\n",
      "   --- ------------------------------------ 3.9/38.8 MB 6.9 MB/s eta 0:00:06\n",
      "   ---- ----------------------------------- 4.2/38.8 MB 7.1 MB/s eta 0:00:05\n",
      "   ---- ----------------------------------- 4.5/38.8 MB 7.0 MB/s eta 0:00:05\n",
      "   ---- ----------------------------------- 4.8/38.8 MB 7.1 MB/s eta 0:00:05\n",
      "   ----- ---------------------------------- 5.1/38.8 MB 7.2 MB/s eta 0:00:05\n",
      "   ----- ---------------------------------- 5.4/38.8 MB 7.1 MB/s eta 0:00:05\n",
      "   ----- ---------------------------------- 5.6/38.8 MB 7.2 MB/s eta 0:00:05\n",
      "   ------ --------------------------------- 5.9/38.8 MB 7.3 MB/s eta 0:00:05\n",
      "   ------ --------------------------------- 6.2/38.8 MB 7.3 MB/s eta 0:00:05\n",
      "   ------ --------------------------------- 6.5/38.8 MB 7.4 MB/s eta 0:00:05\n",
      "   ------ --------------------------------- 6.7/38.8 MB 7.2 MB/s eta 0:00:05\n",
      "   ------- -------------------------------- 7.1/38.8 MB 7.4 MB/s eta 0:00:05\n",
      "   ------- -------------------------------- 7.4/38.8 MB 7.5 MB/s eta 0:00:05\n",
      "   ------- -------------------------------- 7.4/38.8 MB 7.5 MB/s eta 0:00:05\n",
      "   ------- -------------------------------- 7.7/38.8 MB 7.2 MB/s eta 0:00:05\n",
      "   -------- ------------------------------- 8.0/38.8 MB 7.3 MB/s eta 0:00:05\n",
      "   -------- ------------------------------- 8.2/38.8 MB 7.2 MB/s eta 0:00:05\n",
      "   -------- ------------------------------- 8.2/38.8 MB 7.2 MB/s eta 0:00:05\n",
      "   -------- ------------------------------- 8.3/38.8 MB 7.0 MB/s eta 0:00:05\n",
      "   --------- ------------------------------ 8.8/38.8 MB 7.0 MB/s eta 0:00:05\n",
      "   --------- ------------------------------ 9.1/38.8 MB 7.1 MB/s eta 0:00:05\n",
      "   --------- ------------------------------ 9.1/38.8 MB 7.1 MB/s eta 0:00:05\n",
      "   --------- ------------------------------ 9.6/38.8 MB 7.2 MB/s eta 0:00:05\n",
      "   ---------- ----------------------------- 9.9/38.8 MB 7.1 MB/s eta 0:00:05\n",
      "   ---------- ----------------------------- 10.1/38.8 MB 7.2 MB/s eta 0:00:04\n",
      "   ---------- ----------------------------- 10.3/38.8 MB 7.7 MB/s eta 0:00:04\n",
      "   ---------- ----------------------------- 10.5/38.8 MB 7.6 MB/s eta 0:00:04\n",
      "   ---------- ----------------------------- 10.7/38.8 MB 7.6 MB/s eta 0:00:04\n",
      "   ---------- ----------------------------- 10.7/38.8 MB 7.6 MB/s eta 0:00:04\n",
      "   ----------- ---------------------------- 11.1/38.8 MB 7.4 MB/s eta 0:00:04\n",
      "   ----------- ---------------------------- 11.2/38.8 MB 7.4 MB/s eta 0:00:04\n",
      "   ----------- ---------------------------- 11.4/38.8 MB 7.4 MB/s eta 0:00:04\n",
      "   ----------- ---------------------------- 11.5/38.8 MB 7.2 MB/s eta 0:00:04\n",
      "   ------------ --------------------------- 11.8/38.8 MB 7.0 MB/s eta 0:00:04\n",
      "   ------------ --------------------------- 12.1/38.8 MB 7.0 MB/s eta 0:00:04\n",
      "   ------------ --------------------------- 12.3/38.8 MB 7.0 MB/s eta 0:00:04\n",
      "   ------------ --------------------------- 12.5/38.8 MB 7.0 MB/s eta 0:00:04\n",
      "   ------------- -------------------------- 12.9/38.8 MB 7.0 MB/s eta 0:00:04\n",
      "   ------------- -------------------------- 13.2/38.8 MB 7.0 MB/s eta 0:00:04\n",
      "   ------------- -------------------------- 13.5/38.8 MB 7.0 MB/s eta 0:00:04\n",
      "   -------------- ------------------------- 13.8/38.8 MB 7.0 MB/s eta 0:00:04\n",
      "   -------------- ------------------------- 14.0/38.8 MB 7.0 MB/s eta 0:00:04\n",
      "   -------------- ------------------------- 14.3/38.8 MB 7.0 MB/s eta 0:00:04\n",
      "   --------------- ------------------------ 14.7/38.8 MB 7.0 MB/s eta 0:00:04\n",
      "   --------------- ------------------------ 14.9/38.8 MB 7.0 MB/s eta 0:00:04\n",
      "   --------------- ------------------------ 15.4/38.8 MB 7.0 MB/s eta 0:00:04\n",
      "   ---------------- ----------------------- 15.6/38.8 MB 7.1 MB/s eta 0:00:04\n",
      "   ---------------- ----------------------- 16.0/38.8 MB 7.0 MB/s eta 0:00:04\n",
      "   ---------------- ----------------------- 16.3/38.8 MB 7.0 MB/s eta 0:00:04\n",
      "   ----------------- ---------------------- 16.6/38.8 MB 7.1 MB/s eta 0:00:04\n",
      "   ----------------- ---------------------- 16.9/38.8 MB 7.1 MB/s eta 0:00:04\n",
      "   ----------------- ---------------------- 17.3/38.8 MB 7.1 MB/s eta 0:00:04\n",
      "   ------------------ --------------------- 17.7/38.8 MB 7.4 MB/s eta 0:00:03\n",
      "   ------------------ --------------------- 17.9/38.8 MB 7.3 MB/s eta 0:00:03\n",
      "   ------------------ --------------------- 18.2/38.8 MB 7.3 MB/s eta 0:00:03\n",
      "   ------------------ --------------------- 18.4/38.8 MB 7.4 MB/s eta 0:00:03\n",
      "   ------------------- -------------------- 18.6/38.8 MB 7.5 MB/s eta 0:00:03\n",
      "   ------------------- -------------------- 19.0/38.8 MB 7.5 MB/s eta 0:00:03\n",
      "   ------------------- -------------------- 19.3/38.8 MB 7.5 MB/s eta 0:00:03\n",
      "   -------------------- ------------------- 19.6/38.8 MB 7.6 MB/s eta 0:00:03\n",
      "   -------------------- ------------------- 19.8/38.8 MB 7.4 MB/s eta 0:00:03\n",
      "   -------------------- ------------------- 20.3/38.8 MB 7.6 MB/s eta 0:00:03\n",
      "   --------------------- ------------------ 20.5/38.8 MB 7.7 MB/s eta 0:00:03\n",
      "   --------------------- ------------------ 20.9/38.8 MB 7.8 MB/s eta 0:00:03\n",
      "   --------------------- ------------------ 21.2/38.8 MB 8.0 MB/s eta 0:00:03\n",
      "   ---------------------- ----------------- 21.5/38.8 MB 8.2 MB/s eta 0:00:03\n",
      "   ---------------------- ----------------- 21.9/38.8 MB 8.5 MB/s eta 0:00:02\n",
      "   ---------------------- ----------------- 22.1/38.8 MB 8.5 MB/s eta 0:00:02\n",
      "   ----------------------- ---------------- 22.5/38.8 MB 8.6 MB/s eta 0:00:02\n",
      "   ----------------------- ---------------- 22.8/38.8 MB 8.7 MB/s eta 0:00:02\n",
      "   ----------------------- ---------------- 23.2/38.8 MB 8.6 MB/s eta 0:00:02\n",
      "   ------------------------ --------------- 23.3/38.8 MB 8.7 MB/s eta 0:00:02\n",
      "   ------------------------ --------------- 23.7/38.8 MB 8.6 MB/s eta 0:00:02\n",
      "   ------------------------ --------------- 24.0/38.8 MB 8.6 MB/s eta 0:00:02\n",
      "   ------------------------ --------------- 24.3/38.8 MB 8.7 MB/s eta 0:00:02\n",
      "   ------------------------- -------------- 24.6/38.8 MB 8.7 MB/s eta 0:00:02\n",
      "   ------------------------- -------------- 24.9/38.8 MB 8.5 MB/s eta 0:00:02\n",
      "   ------------------------- -------------- 25.2/38.8 MB 8.6 MB/s eta 0:00:02\n",
      "   -------------------------- ------------- 25.4/38.8 MB 8.5 MB/s eta 0:00:02\n",
      "   -------------------------- ------------- 25.7/38.8 MB 8.6 MB/s eta 0:00:02\n",
      "   -------------------------- ------------- 25.9/38.8 MB 8.4 MB/s eta 0:00:02\n",
      "   -------------------------- ------------- 26.2/38.8 MB 8.4 MB/s eta 0:00:02\n",
      "   --------------------------- ------------ 26.4/38.8 MB 8.4 MB/s eta 0:00:02\n",
      "   --------------------------- ------------ 26.7/38.8 MB 8.4 MB/s eta 0:00:02\n",
      "   --------------------------- ------------ 27.0/38.8 MB 8.3 MB/s eta 0:00:02\n",
      "   ---------------------------- ----------- 27.3/38.8 MB 8.3 MB/s eta 0:00:02\n",
      "   ---------------------------- ----------- 27.6/38.8 MB 8.3 MB/s eta 0:00:02\n",
      "   ---------------------------- ----------- 28.0/38.8 MB 8.3 MB/s eta 0:00:02\n",
      "   ----------------------------- ---------- 28.4/38.8 MB 8.4 MB/s eta 0:00:02\n",
      "   ----------------------------- ---------- 28.7/38.8 MB 8.6 MB/s eta 0:00:02\n",
      "   ----------------------------- ---------- 28.9/38.8 MB 8.4 MB/s eta 0:00:02\n",
      "   ------------------------------ --------- 29.3/38.8 MB 8.4 MB/s eta 0:00:02\n",
      "   ------------------------------ --------- 29.6/38.8 MB 8.4 MB/s eta 0:00:02\n",
      "   ------------------------------ --------- 29.8/38.8 MB 8.4 MB/s eta 0:00:02\n",
      "   ------------------------------- -------- 30.2/38.8 MB 8.4 MB/s eta 0:00:02\n",
      "   ------------------------------- -------- 30.5/38.8 MB 8.4 MB/s eta 0:00:01\n",
      "   ------------------------------- -------- 30.7/38.8 MB 8.4 MB/s eta 0:00:01\n",
      "   -------------------------------- ------- 31.2/38.8 MB 8.4 MB/s eta 0:00:01\n",
      "   -------------------------------- ------- 31.5/38.8 MB 8.5 MB/s eta 0:00:01\n",
      "   -------------------------------- ------- 31.8/38.8 MB 8.6 MB/s eta 0:00:01\n",
      "   --------------------------------- ------ 32.2/38.8 MB 8.6 MB/s eta 0:00:01\n",
      "   --------------------------------- ------ 32.3/38.8 MB 8.3 MB/s eta 0:00:01\n",
      "   --------------------------------- ------ 32.8/38.8 MB 8.5 MB/s eta 0:00:01\n",
      "   ---------------------------------- ----- 33.1/38.8 MB 8.5 MB/s eta 0:00:01\n",
      "   ---------------------------------- ----- 33.5/38.8 MB 8.5 MB/s eta 0:00:01\n",
      "   ---------------------------------- ----- 33.8/38.8 MB 8.6 MB/s eta 0:00:01\n",
      "   ----------------------------------- ---- 34.1/38.8 MB 8.6 MB/s eta 0:00:01\n",
      "   ----------------------------------- ---- 34.4/38.8 MB 8.6 MB/s eta 0:00:01\n",
      "   ----------------------------------- ---- 34.7/38.8 MB 8.6 MB/s eta 0:00:01\n",
      "   ------------------------------------ --- 35.1/38.8 MB 8.7 MB/s eta 0:00:01\n",
      "   ------------------------------------ --- 35.2/38.8 MB 8.6 MB/s eta 0:00:01\n",
      "   ------------------------------------ --- 35.7/38.8 MB 8.7 MB/s eta 0:00:01\n",
      "   ------------------------------------- -- 36.1/38.8 MB 9.0 MB/s eta 0:00:01\n",
      "   ------------------------------------- -- 36.4/38.8 MB 9.0 MB/s eta 0:00:01\n",
      "   ------------------------------------- -- 36.8/38.8 MB 9.1 MB/s eta 0:00:01\n",
      "   -------------------------------------- - 37.0/38.8 MB 9.1 MB/s eta 0:00:01\n",
      "   -------------------------------------- - 37.3/38.8 MB 9.1 MB/s eta 0:00:01\n",
      "   -------------------------------------- - 37.7/38.8 MB 9.2 MB/s eta 0:00:01\n",
      "   ---------------------------------------  38.0/38.8 MB 9.2 MB/s eta 0:00:01\n",
      "   ---------------------------------------  38.3/38.8 MB 9.0 MB/s eta 0:00:01\n",
      "   ---------------------------------------  38.7/38.8 MB 9.1 MB/s eta 0:00:01\n",
      "   ---------------------------------------  38.8/38.8 MB 9.1 MB/s eta 0:00:01\n",
      "   ---------------------------------------  38.8/38.8 MB 9.1 MB/s eta 0:00:01\n",
      "   ---------------------------------------- 38.8/38.8 MB 8.6 MB/s eta 0:00:00\n",
      "Installing collected packages: opencv-python\n",
      "Successfully installed opencv-python-4.10.0.84\n",
      "Note: you may need to restart the kernel to use updated packages.\n"
     ]
    },
    {
     "name": "stderr",
     "output_type": "stream",
     "text": [
      "\n",
      "[notice] A new release of pip is available: 24.0 -> 24.2\n",
      "[notice] To update, run: python.exe -m pip install --upgrade pip\n"
     ]
    },
    {
     "name": "stdout",
     "output_type": "stream",
     "text": [
      "Defaulting to user installation because normal site-packages is not writeable\n",
      "Collecting imutils\n",
      "  Downloading imutils-0.5.4.tar.gz (17 kB)\n",
      "  Installing build dependencies: started\n",
      "  Installing build dependencies: finished with status 'done'\n",
      "  Getting requirements to build wheel: started\n",
      "  Getting requirements to build wheel: finished with status 'done'\n",
      "  Preparing metadata (pyproject.toml): started\n",
      "  Preparing metadata (pyproject.toml): finished with status 'done'\n",
      "Building wheels for collected packages: imutils\n",
      "  Building wheel for imutils (pyproject.toml): started\n",
      "  Building wheel for imutils (pyproject.toml): finished with status 'done'\n",
      "  Created wheel for imutils: filename=imutils-0.5.4-py3-none-any.whl size=25855 sha256=a0607a0c55998dbea91d25ce6e7b2b28d783d25a06542315c9845069a7808c11\n",
      "  Stored in directory: c:\\users\\alexp\\appdata\\local\\pip\\cache\\wheels\\5b\\76\\96\\ad0c321506837bef578cf3008df3916c23018435a355d9f6b1\n",
      "Successfully built imutils\n",
      "Installing collected packages: imutils\n",
      "Successfully installed imutils-0.5.4\n",
      "Note: you may need to restart the kernel to use updated packages.\n"
     ]
    },
    {
     "name": "stderr",
     "output_type": "stream",
     "text": [
      "\n",
      "[notice] A new release of pip is available: 24.0 -> 24.2\n",
      "[notice] To update, run: python.exe -m pip install --upgrade pip\n"
     ]
    },
    {
     "name": "stdout",
     "output_type": "stream",
     "text": [
      "Defaulting to user installation because normal site-packages is not writeable\n",
      "Collecting mahotas\n",
      "  Downloading mahotas-1.4.18-cp312-cp312-win_amd64.whl.metadata (14 kB)\n",
      "Requirement already satisfied: numpy in c:\\users\\alexp\\appdata\\roaming\\python\\python312\\site-packages (from mahotas) (1.26.4)\n",
      "Downloading mahotas-1.4.18-cp312-cp312-win_amd64.whl (1.7 MB)\n",
      "   ---------------------------------------- 0.0/1.7 MB ? eta -:--:--\n",
      "   ---------------------------------------- 0.0/1.7 MB ? eta -:--:--\n",
      "    --------------------------------------- 0.0/1.7 MB 653.6 kB/s eta 0:00:03\n",
      "   ------ --------------------------------- 0.3/1.7 MB 2.8 MB/s eta 0:00:01\n",
      "   --------- ------------------------------ 0.4/1.7 MB 3.3 MB/s eta 0:00:01\n",
      "   ------------------ --------------------- 0.8/1.7 MB 5.1 MB/s eta 0:00:01\n",
      "   -------------------------- ------------- 1.1/1.7 MB 5.5 MB/s eta 0:00:01\n",
      "   --------------------------------- ------ 1.5/1.7 MB 6.2 MB/s eta 0:00:01\n",
      "   ---------------------------------------  1.7/1.7 MB 6.5 MB/s eta 0:00:01\n",
      "   ---------------------------------------- 1.7/1.7 MB 6.1 MB/s eta 0:00:00\n",
      "Installing collected packages: mahotas\n",
      "Successfully installed mahotas-1.4.18\n",
      "Note: you may need to restart the kernel to use updated packages.\n"
     ]
    },
    {
     "name": "stderr",
     "output_type": "stream",
     "text": [
      "\n",
      "[notice] A new release of pip is available: 24.0 -> 24.2\n",
      "[notice] To update, run: python.exe -m pip install --upgrade pip\n"
     ]
    }
   ],
   "source": [
    "# git config --global user.email \"you@example.com\"\n",
    "# git config --global user.name \"Your Name\"\n",
    "%pip install opencv-python\n",
    "%pip install imutils\n",
    "%pip install mahotas"
   ]
  },
  {
   "cell_type": "code",
   "execution_count": 2,
   "metadata": {},
   "outputs": [],
   "source": [
    "import numpy as np\n",
    "import imutils\n",
    "import cv2\n",
    "import mahotas\n",
    "from matplotlib import pyplot as plt"
   ]
  },
  {
   "cell_type": "markdown",
   "metadata": {},
   "source": [
    "lendo imagem e obendo informacoes de largura altura e canais em pixel"
   ]
  },
  {
   "cell_type": "code",
   "execution_count": 4,
   "metadata": {},
   "outputs": [
    {
     "name": "stdout",
     "output_type": "stream",
     "text": [
      "Largura em pixels: 461\n",
      "Altura em pixels: 498\n",
      "Qtde de canais: 3\n"
     ]
    },
    {
     "data": {
      "text/plain": [
       "True"
      ]
     },
     "execution_count": 4,
     "metadata": {},
     "output_type": "execute_result"
    }
   ],
   "source": [
    "# Importação das bibliotecas\n",
    "import cv2\n",
    "# Leitura da imagem com a função imread()\n",
    "imagem = cv2.imread('entrada.jpg')\n",
    "print('Largura em pixels: ', end='')\n",
    "print(imagem.shape[1]) #largura da imagem\n",
    "print('Altura em pixels: ', end='')\n",
    "print(imagem.shape[0]) #altura da imagem\n",
    "print('Qtde de canais: ', end='')\n",
    "print(imagem.shape[2])\n",
    "# Mostra a imagem com a função imshow\n",
    "cv2.imshow(\"Nome da janela\", imagem)\n",
    "cv2.waitKey(0) #espera pressionar qualquer tecla\n",
    "# Salvar a imagem no disco com função imwrite()\n",
    "cv2.imwrite(\"saida.jpg\", imagem)"
   ]
  },
  {
   "cell_type": "markdown",
   "metadata": {},
   "source": [
    "2 Sistema de coordenadas e manipulação de pixels"
   ]
  },
  {
   "cell_type": "markdown",
   "metadata": {},
   "source": [
    "Captura de Caracteristicas de cor"
   ]
  },
  {
   "cell_type": "code",
   "execution_count": 6,
   "metadata": {},
   "outputs": [
    {
     "name": "stdout",
     "output_type": "stream",
     "text": [
      "O pixel (0, 0) tem as seguintes cores:\n",
      "Vermelho: 168 Verde: 150 Azul: 130\n"
     ]
    }
   ],
   "source": [
    "# Importação das bibliotecas\n",
    "import cv2\n",
    "# Leitura da imagem com a função imread()\n",
    "imagem = cv2.imread('entrada.jpg')\n",
    "\n",
    "(b, g, r) = imagem[0, 0] #veja que a ordem BGR e não RGB\n",
    "print('O pixel (0, 0) tem as seguintes cores:')\n",
    "print('Vermelho:', r, 'Verde:', g, 'Azul:', b)"
   ]
  },
  {
   "cell_type": "markdown",
   "metadata": {},
   "source": [
    "Coloca tudo em azul"
   ]
  },
  {
   "cell_type": "code",
   "execution_count": 10,
   "metadata": {},
   "outputs": [
    {
     "data": {
      "text/plain": [
       "-1"
      ]
     },
     "execution_count": 10,
     "metadata": {},
     "output_type": "execute_result"
    }
   ],
   "source": [
    "import cv2\n",
    "# Leitura da imagem com a função imread()\n",
    "imagem = cv2.imread('entrada.jpg')\n",
    "for y in range(0, imagem.shape[0]):\n",
    "    for x in range(0, imagem.shape[1]):\n",
    "        imagem[y, x] = (130,0,0)\n",
    "cv2.imshow(\"Imagem modificada\", imagem)\n",
    "cv2.waitKey(0) #espera pressionar qualquer tecla"
   ]
  },
  {
   "cell_type": "markdown",
   "metadata": {},
   "source": [
    "Altera as cores"
   ]
  },
  {
   "cell_type": "code",
   "execution_count": 13,
   "metadata": {},
   "outputs": [
    {
     "data": {
      "text/plain": [
       "-1"
      ]
     },
     "execution_count": 13,
     "metadata": {},
     "output_type": "execute_result"
    }
   ],
   "source": [
    "import cv2\n",
    "# Leitura da imagem com a função imread()\n",
    "imagem = cv2.imread('ponte.png')\n",
    "for y in range(0, imagem.shape[0]): #percorre linhas\n",
    "    for x in range(0, imagem.shape[1]): #percorre colunas\n",
    "        imagem[y, x] = (x%256,y%256,x%256)\n",
    "cv2.imshow(\"Imagem modificada\", imagem)\n",
    "cv2.waitKey(0)"
   ]
  },
  {
   "cell_type": "code",
   "execution_count": 14,
   "metadata": {},
   "outputs": [
    {
     "data": {
      "text/plain": [
       "-1"
      ]
     },
     "execution_count": 14,
     "metadata": {},
     "output_type": "execute_result"
    }
   ],
   "source": [
    "import cv2\n",
    "imagem = cv2.imread('ponte.png')\n",
    "for y in range(0, imagem.shape[0], 1): #percorre as linhas\n",
    "    for x in range(0, imagem.shape[1], 1): #percorre as colunas\n",
    "        imagem[y, x] = (0,(x*y)%256,0)\n",
    "cv2.imshow(\"Imagem modificada\", imagem)\n",
    "cv2.waitKey(0)"
   ]
  },
  {
   "cell_type": "code",
   "execution_count": 15,
   "metadata": {},
   "outputs": [
    {
     "data": {
      "text/plain": [
       "-1"
      ]
     },
     "execution_count": 15,
     "metadata": {},
     "output_type": "execute_result"
    }
   ],
   "source": [
    "import cv2\n",
    "imagem = cv2.imread('ponte.png')\n",
    "for y in range(0, imagem.shape[0], 10): #percorre linhas\n",
    "    for x in range(0, imagem.shape[1], 10): #percorre colunas\n",
    "        imagem[y:y+5, x: x+5] = (0,255,255)\n",
    "cv2.imshow(\"Imagem modificada\", imagem)\n",
    "cv2.waitKey(0)"
   ]
  },
  {
   "cell_type": "code",
   "execution_count": null,
   "metadata": {},
   "outputs": [],
   "source": [
    "imagem[0, 0] = (0, 255, 0) #altera o pixel (0,0) para verde"
   ]
  },
  {
   "cell_type": "code",
   "execution_count": null,
   "metadata": {},
   "outputs": [],
   "source": [
    "image[30:50, :] = (255, 0, 0)"
   ]
  },
  {
   "cell_type": "code",
   "execution_count": 16,
   "metadata": {},
   "outputs": [
    {
     "data": {
      "text/plain": [
       "-1"
      ]
     },
     "execution_count": 16,
     "metadata": {},
     "output_type": "execute_result"
    }
   ],
   "source": [
    "import cv2\n",
    "image = cv2.imread('ponte.png')\n",
    "#Cria um retangulo azul por toda a largura da imagem\n",
    "image[30:50, :] = (255, 0, 0)\n",
    "#Cria um quadrado vermelho\n",
    "image[100:150, 50:100] = (0, 0, 255)\n",
    "#Cria um retangulo amarelo por toda a altura da imagem\n",
    "image[:, 200:220] = (0, 255, 255)\n",
    "#Cria um retangulo verde da linha 150 a 300 nas colunas 250 a\n",
    "350\n",
    "image[150:300, 250:350] = (0, 255, 0)\n",
    "#Cria um quadrado ciano da linha 150 a 300 nas colunas 250 a\n",
    "350\n",
    "image[300:400, 50:150] = (255, 255, 0)\n",
    "#Cria um quadrado branco\n",
    "image[250:350, 300:400] = (255, 255, 255)\n",
    "#Cria um quadrado preto\n",
    "image[70:100, 300: 450] = (0, 0, 0)\n",
    "cv2.imshow(\"Imagem alterada\", image)\n",
    "cv2.imwrite(\"alterada.jpg\", image)\n",
    "cv2.waitKey(0)"
   ]
  },
  {
   "cell_type": "code",
   "execution_count": 18,
   "metadata": {},
   "outputs": [
    {
     "data": {
      "text/plain": [
       "-1"
      ]
     },
     "execution_count": 18,
     "metadata": {},
     "output_type": "execute_result"
    }
   ],
   "source": [
    "import numpy as np\n",
    "import cv2\n",
    "imagem = cv2.imread('ponte.png')\n",
    "vermelho = (0, 0, 255)\n",
    "verde = (0, 255, 0)\n",
    "azul = (255, 0, 0)\n",
    "cv2.line(imagem, (0, 0), (100, 200), verde)\n",
    "cv2.line(imagem, (300, 200), (150, 150), vermelho, 5)\n",
    "cv2.rectangle(imagem, (20, 20), (120, 120), azul, 10)\n",
    "cv2.rectangle(imagem, (200, 50), (225, 125), verde, -1)\n",
    "(X, Y) = (imagem.shape[1] // 2, imagem.shape[0] // 2)\n",
    "for raio in range(0, 175, 15):\n",
    "    cv2.circle(imagem, (X, Y), raio, vermelho)\n",
    "cv2.imshow(\"Desenhando sobre a imagem\", imagem)\n",
    "cv2.waitKey(0)"
   ]
  },
  {
   "cell_type": "code",
   "execution_count": 19,
   "metadata": {},
   "outputs": [
    {
     "data": {
      "text/plain": [
       "-1"
      ]
     },
     "execution_count": 19,
     "metadata": {},
     "output_type": "execute_result"
    }
   ],
   "source": [
    "import numpy as np\n",
    "import cv2\n",
    "imagem = cv2.imread('ponte.png')\n",
    "fonte = cv2.FONT_HERSHEY_SIMPLEX\n",
    "cv2.putText(imagem,'OpenCV',(15,65), fonte,2,(255,255,255),2,cv2.LINE_AA)\n",
    "cv2.imshow(\"Ponte\", imagem)\n",
    "cv2.waitKey(0)"
   ]
  },
  {
   "cell_type": "markdown",
   "metadata": {},
   "source": [
    "4 Transformações e máscaras"
   ]
  },
  {
   "cell_type": "code",
   "execution_count": 20,
   "metadata": {},
   "outputs": [
    {
     "data": {
      "text/plain": [
       "True"
      ]
     },
     "execution_count": 20,
     "metadata": {},
     "output_type": "execute_result"
    }
   ],
   "source": [
    "import cv2\n",
    "imagem = cv2.imread('ponte.png')\n",
    "recorte = imagem[100:200, 100:200]\n",
    "cv2.imshow(\"Recorte da imagem\", recorte)\n",
    "cv2.imwrite(\"recorte.jpg\", recorte) #salva no disco"
   ]
  },
  {
   "cell_type": "code",
   "execution_count": 22,
   "metadata": {},
   "outputs": [
    {
     "data": {
      "text/plain": [
       "-1"
      ]
     },
     "execution_count": 22,
     "metadata": {},
     "output_type": "execute_result"
    }
   ],
   "source": [
    "import numpy as np\n",
    "import cv2\n",
    "img = cv2.imread('ponte.png')\n",
    "cv2.imshow(\"Original\", img)\n",
    "largura = img.shape[1]\n",
    "altura = img.shape[0]\n",
    "proporcao = float(altura/largura)\n",
    "largura_nova = 320 #em pixels\n",
    "altura_nova = int(largura_nova*proporcao)\n",
    "tamanho_novo = (largura_nova, altura_nova)\n",
    "img_redimensionada = cv2.resize(img,tamanho_novo, interpolation = cv2.INTER_AREA)\n",
    "cv2.imshow('Resultado', img_redimensionada)\n",
    "cv2.waitKey(0)"
   ]
  },
  {
   "cell_type": "code",
   "execution_count": 23,
   "metadata": {},
   "outputs": [
    {
     "data": {
      "text/plain": [
       "-1"
      ]
     },
     "execution_count": 23,
     "metadata": {},
     "output_type": "execute_result"
    }
   ],
   "source": [
    "import numpy as np\n",
    "import imutils\n",
    "import cv2\n",
    "img = cv2.imread('ponte.png')\n",
    "cv2.imshow(\"Original\", img)\n",
    "img_redimensionada = img[::2,::2]\n",
    "cv2.imshow(\"Imagem redimensionada\", img_redimensionada)\n",
    "cv2.waitKey(0)"
   ]
  },
  {
   "cell_type": "code",
   "execution_count": 24,
   "metadata": {},
   "outputs": [
    {
     "data": {
      "text/plain": [
       "-1"
      ]
     },
     "execution_count": 24,
     "metadata": {},
     "output_type": "execute_result"
    }
   ],
   "source": [
    "import cv2\n",
    "img = cv2.imread('ponte.png')\n",
    "cv2.imshow(\"Original\", img)\n",
    "flip_horizontal = img[::-1,:] #comando equivalente abaixo\n",
    "#flip_horizontal = cv2.flip(img, 1)\n",
    "cv2.imshow(\"Flip Horizontal\", flip_horizontal)\n",
    "flip_vertical = img[:,::-1] #comando equivalente abaixo\n",
    "#flip_vertical = cv2.flip(img, 0)\n",
    "cv2.imshow(\"Flip Vertical\", flip_vertical)\n",
    "flip_hv = img[::-1,::-1] #comando equivalente abaixo\n",
    "#flip_hv = cv2.flip(img, -1)\n",
    "cv2.imshow(\"Flip Horizontal e Vertical\", flip_hv)\n",
    "cv2.waitKey(0)"
   ]
  },
  {
   "cell_type": "code",
   "execution_count": 25,
   "metadata": {},
   "outputs": [
    {
     "data": {
      "text/plain": [
       "-1"
      ]
     },
     "execution_count": 25,
     "metadata": {},
     "output_type": "execute_result"
    }
   ],
   "source": [
    "img = cv2.imread('ponte.png')\n",
    "(alt, lar) = img.shape[:2] #captura altura e largura\n",
    "centro = (lar // 2, alt // 2) #acha o centro\n",
    "M = cv2.getRotationMatrix2D(centro, 30, 1.0) #30 graus\n",
    "img_rotacionada = cv2.warpAffine(img, M, (lar, alt))\n",
    "cv2.imshow(\"Imagem rotacionada em 45 graus\", img_rotacionada)\n",
    "cv2.waitKey(0)"
   ]
  },
  {
   "cell_type": "code",
   "execution_count": 3,
   "metadata": {},
   "outputs": [
    {
     "data": {
      "text/plain": [
       "-1"
      ]
     },
     "execution_count": 3,
     "metadata": {},
     "output_type": "execute_result"
    }
   ],
   "source": [
    "img = cv2.imread('ponte.png')\n",
    "cv2.imshow(\"Original\", img)\n",
    "mascara = np.zeros(img.shape[:2], dtype = \"uint8\")\n",
    "(cX, cY) = (img.shape[1] // 2, img.shape[0] // 2)\n",
    "cv2.circle(mascara, (cX, cY), 100, 255, -1)\n",
    "img_com_mascara = cv2.bitwise_and(img, img, mask = mascara)\n",
    "cv2.imshow(\"Máscara aplicada à imagem\", img_com_mascara)\n",
    "cv2.waitKey(0)"
   ]
  },
  {
   "cell_type": "code",
   "execution_count": 4,
   "metadata": {},
   "outputs": [
    {
     "data": {
      "text/plain": [
       "-1"
      ]
     },
     "execution_count": 4,
     "metadata": {},
     "output_type": "execute_result"
    }
   ],
   "source": [
    "import cv2\n",
    "import numpy as np\n",
    "img = cv2.imread('ponte.png')\n",
    "cv2.imshow(\"Original\", img)\n",
    "mascara = np.zeros(img.shape[:2], dtype = \"uint8\")\n",
    "(cX, cY) = (img.shape[1] // 2, img.shape[0] // 2)\n",
    "cv2.circle(mascara, (cX, cY), 180, 255, 70)\n",
    "cv2.circle(mascara, (cX, cY), 70, 255, -1)\n",
    "cv2.imshow(\"Máscara\", mascara)\n",
    "img_com_mascara = cv2.bitwise_and(img, img, mask = mascara)\n",
    "cv2.imshow(\"Máscara aplicada à imagem\", img_com_mascara)\n",
    "cv2.waitKey(0)"
   ]
  },
  {
   "cell_type": "markdown",
   "metadata": {},
   "source": [
    "5 Sistemas de cores"
   ]
  },
  {
   "cell_type": "code",
   "execution_count": 6,
   "metadata": {},
   "outputs": [
    {
     "data": {
      "text/plain": [
       "-1"
      ]
     },
     "execution_count": 6,
     "metadata": {},
     "output_type": "execute_result"
    }
   ],
   "source": [
    "img = cv2.imread('ponte.png')\n",
    "cv2.imshow(\"Original\", img)\n",
    "gray = cv2.cvtColor(img, cv2.COLOR_BGR2GRAY)\n",
    "cv2.imshow(\"Gray\", gray)\n",
    "hsv = cv2.cvtColor(img, cv2.COLOR_BGR2HSV)\n",
    "cv2.imshow(\"HSV\", hsv)\n",
    "lab = cv2.cvtColor(img, cv2.COLOR_BGR2LAB)\n",
    "cv2.imshow(\"L*a*b*\", lab)\n",
    "cv2.waitKey(0)"
   ]
  },
  {
   "cell_type": "code",
   "execution_count": 7,
   "metadata": {},
   "outputs": [
    {
     "data": {
      "text/plain": [
       "-1"
      ]
     },
     "execution_count": 7,
     "metadata": {},
     "output_type": "execute_result"
    }
   ],
   "source": [
    "img = cv2.imread('ponte.png')\n",
    "(canalAzul, canalVerde, canalVermelho) = cv2.split(img)\n",
    "cv2.imshow(\"Vermelho\", canalVermelho)\n",
    "cv2.imshow(\"Verde\", canalVerde)\n",
    "cv2.imshow(\"Azul\", canalAzul)\n",
    "cv2.waitKey(0)"
   ]
  },
  {
   "cell_type": "code",
   "execution_count": 8,
   "metadata": {},
   "outputs": [],
   "source": [
    "resultado = cv2.merge([canalAzul, canalVerde, canalVermelho])"
   ]
  },
  {
   "cell_type": "code",
   "execution_count": 9,
   "metadata": {},
   "outputs": [],
   "source": [
    "import numpy as np\n",
    "import cv2\n",
    "img = cv2.imread('ponte.png')\n",
    "(canalAzul, canalVerde, canalVermelho) = cv2.split(img)\n",
    "zeros = np.zeros(img.shape[:2], dtype = \"uint8\")\n",
    "cv2.imshow(\"Vermelho\", cv2.merge([zeros, zeros,canalVermelho]))\n",
    "cv2.imshow(\"Verde\", cv2.merge([zeros, canalVerde, zeros]))\n",
    "cv2.imshow(\"Azul\", cv2.merge([canalAzul, zeros, zeros]))\n",
    "cv2.imshow(\"Original\", img)\n",
    "cv2.waitKey(0)"
   ]
  },
  {
   "cell_type": "markdown",
   "metadata": {},
   "source": [
    "6 Histogramas e equalização de imagem"
   ]
  },
  {
   "cell_type": "code",
   "execution_count": 1,
   "metadata": {},
   "outputs": [
    {
     "data": {
      "image/png": "[encoded data removed]",
      "text/plain": [
       "<Figure size 640x480 with 1 Axes>"
      ]
     },
     "metadata": {},
     "output_type": "display_data"
    },
    {
     "data": {
      "image/png": "[encoded data removed]",
      "text/plain": [
       "<Figure size 640x480 with 1 Axes>"
      ]
     },
     "metadata": {},
     "output_type": "display_data"
    }
   ],
   "source": [
    "from matplotlib import pyplot as plt\n",
    "import cv2\n",
    "img = cv2.imread('ponte.png')\n",
    "img = cv2.cvtColor(img, cv2.COLOR_BGR2GRAY) #converte P&B\n",
    "cv2.imshow(\"Imagem P&B\", img)\n",
    "#Função calcHist para calcular o hisograma da imagem\n",
    "h = cv2.calcHist([img], [0], None, [256], [0, 256])\n",
    "plt.figure()\n",
    "plt.title(\"Histograma P&B\")\n",
    "plt.xlabel(\"Intensidade\")\n",
    "plt.ylabel(\"Qtde de Pixels\")\n",
    "plt.plot(h)\n",
    "plt.xlim([0, 256])\n",
    "plt.show()\n",
    "cv2.waitKey(0)\n",
    "plt.hist(img.ravel(),256,[0,256])\n",
    "plt.show()"
   ]
  },
  {
   "cell_type": "code",
   "execution_count": 8,
   "metadata": {},
   "outputs": [
    {
     "data": {
      "image/png": "[encoded data removed]",
      "text/plain": [
       "<Figure size 640x480 with 1 Axes>"
      ]
     },
     "metadata": {},
     "output_type": "display_data"
    },
    {
     "ename": "",
     "evalue": "",
     "output_type": "error",
     "traceback": [
      "\u001b[1;31mThe Kernel crashed while executing code in the current cell or a previous cell. \n",
      "\u001b[1;31mPlease review the code in the cell(s) to identify a possible cause of the failure. \n",
      "\u001b[1;31mClick <a href='https://aka.ms/vscodeJupyterKernelCrash'>here</a> for more info. \n",
      "\u001b[1;31mView Jupyter <a href='command:jupyter.viewOutput'>log</a> for further details."
     ]
    }
   ],
   "source": [
    "from matplotlib import pyplot as plt\n",
    "import numpy as np\n",
    "import cv2\n",
    "\n",
    "img = cv2.imread('ponte.png')\n",
    "cv2.imshow(\"Imagem Colorida\", img)\n",
    "\n",
    "#Separa os canais\n",
    "canais = cv2.split(img)\n",
    "cores = (\"b\", \"g\", \"r\")\n",
    "plt.figure()\n",
    "plt.title(\"'Histograma Colorido\")\n",
    "plt.xlabel(\"Intensidade\")\n",
    "plt.ylabel(\"Número de Pixels\")\n",
    "for (canal, cor) in zip(canais, cores):\n",
    "    #Este loop executa 3 vezes, uma para cada canal\n",
    "    hist = cv2.calcHist([canal], [0], None, [256], [0, 256])\n",
    "    plt.plot(hist, color=cor)\n",
    "    plt.xlim([0, 256])\n",
    "plt.show()"
   ]
  },
  {
   "cell_type": "code",
   "execution_count": 1,
   "metadata": {},
   "outputs": [
    {
     "data": {
      "image/png": "[encoded data removed]",
      "text/plain": [
       "<Figure size 640x480 with 1 Axes>"
      ]
     },
     "metadata": {},
     "output_type": "display_data"
    },
    {
     "data": {
      "image/png": "[encoded data removed]",
      "text/plain": [
       "<Figure size 640x480 with 1 Axes>"
      ]
     },
     "metadata": {},
     "output_type": "display_data"
    },
    {
     "data": {
      "text/plain": [
       "-1"
      ]
     },
     "execution_count": 1,
     "metadata": {},
     "output_type": "execute_result"
    }
   ],
   "source": [
    "from matplotlib import pyplot as plt\n",
    "import numpy as np\n",
    "import cv2\n",
    "img = cv2.imread('ponte.png')\n",
    "img = cv2.cvtColor(img, cv2.COLOR_BGR2GRAY)\n",
    "h_eq = cv2.equalizeHist(img)\n",
    "plt.figure()\n",
    "plt.title(\"Histograma Equalizado\")\n",
    "plt.xlabel(\"Intensidade\")\n",
    "plt.ylabel(\"Qtde de Pixels\")\n",
    "plt.hist(h_eq.ravel(), 256, [0,256])\n",
    "plt.xlim([0, 256])\n",
    "plt.show()\n",
    "plt.figure()\n",
    "plt.title(\"Histograma Original\")\n",
    "plt.xlabel(\"Intensidade\")\n",
    "plt.ylabel(\"Qtde de Pixels\")\n",
    "plt.hist(img.ravel(), 256, [0,256])\n",
    "plt.xlim([0, 256])\n",
    "plt.show()\n",
    "cv2.waitKey(0)"
   ]
  },
  {
   "cell_type": "markdown",
   "metadata": {},
   "source": [
    "7 Suavização de imagens"
   ]
  },
  {
   "cell_type": "code",
   "execution_count": 4,
   "metadata": {},
   "outputs": [
    {
     "data": {
      "text/plain": [
       "-1"
      ]
     },
     "execution_count": 4,
     "metadata": {},
     "output_type": "execute_result"
    }
   ],
   "source": [
    "from matplotlib import pyplot as plt\n",
    "import numpy as np\n",
    "import cv2\n",
    "img = cv2.imread('ponte.png')\n",
    "img = img[::2,::2] # Diminui a imagem\n",
    "suave = np.vstack([\n",
    "    np.hstack([img, cv2.blur(img, ( 3, 3))]),\n",
    "    np.hstack([cv2.blur(img, (5,5)), cv2.blur(img, ( 7, 7))]),\n",
    "    np.hstack([cv2.blur(img, (9,9)), cv2.blur(img, (11, 11))]),\n",
    "    ])\n",
    "cv2.imshow(\"Imagens suavisadas (Blur)\", suave)\n",
    "cv2.waitKey(0)"
   ]
  },
  {
   "cell_type": "code",
   "execution_count": 5,
   "metadata": {},
   "outputs": [
    {
     "data": {
      "text/plain": [
       "-1"
      ]
     },
     "execution_count": 5,
     "metadata": {},
     "output_type": "execute_result"
    }
   ],
   "source": [
    "from matplotlib import pyplot as plt\n",
    "import numpy as np\n",
    "import cv2\n",
    "img = cv2.imread('ponte.png')\n",
    "img = img[::2,::2] # Diminui a imagem\n",
    "suave = np.vstack([\n",
    "np.hstack([img,\n",
    "           cv2.GaussianBlur(img, ( 3, 3), 0)]),\n",
    "np.hstack([cv2.GaussianBlur(img, ( 5, 5), 0), \n",
    "           cv2.GaussianBlur(img, ( 7, 7), 0)]),\n",
    "np.hstack([cv2.GaussianBlur(img, ( 9, 9), 0), \n",
    "           cv2.GaussianBlur(img, (11, 11), 0)]),\n",
    "])\n",
    "cv2.imshow(\"Imagem original e suavisadas pelo filtro Gaussiano\", suave)\n",
    "cv2.waitKey(0)"
   ]
  },
  {
   "cell_type": "code",
   "execution_count": 6,
   "metadata": {},
   "outputs": [
    {
     "data": {
      "text/plain": [
       "-1"
      ]
     },
     "execution_count": 6,
     "metadata": {},
     "output_type": "execute_result"
    }
   ],
   "source": [
    "from matplotlib import pyplot as plt\n",
    "import numpy as np\n",
    "import cv2\n",
    "img = cv2.imread('ponte.png')\n",
    "img = img[::2,::2] # Diminui a imagem\n",
    "suave = np.vstack([\n",
    "np.hstack([img, cv2.medianBlur(img, 3)]),\n",
    "np.hstack([cv2.medianBlur(img, 5), cv2.medianBlur(img, 7)]),\n",
    "np.hstack([cv2.medianBlur(img, 9), cv2.medianBlur(img, 11)]),\n",
    "])\n",
    "cv2.imshow(\"Imagem original e suavisadas pela mediana\", suave)\n",
    "cv2.waitKey(0)"
   ]
  },
  {
   "cell_type": "code",
   "execution_count": 7,
   "metadata": {},
   "outputs": [],
   "source": [
    "from matplotlib import pyplot as plt\n",
    "import numpy as np\n",
    "import cv2\n",
    "img = cv2.imread('ponte.png')\n",
    "img = img[::2,::2] # Diminui a imagem\n",
    "suave = np.vstack([\n",
    "np.hstack([img, cv2.bilateralFilter(img, 3, 21, 21)]),\n",
    "np.hstack([cv2.bilateralFilter(img, 5, 35, 35), cv2.bilateralFilter(img, 7, 49, 49)]),\n",
    "np.hstack([cv2.bilateralFilter(img, 9, 63, 63), cv2.bilateralFilter(img, 11, 77, 77)]),\n",
    "])"
   ]
  },
  {
   "cell_type": "markdown",
   "metadata": {},
   "source": [
    "8 Binarização com limiar"
   ]
  },
  {
   "cell_type": "code",
   "execution_count": 8,
   "metadata": {},
   "outputs": [
    {
     "data": {
      "text/plain": [
       "-1"
      ]
     },
     "execution_count": 8,
     "metadata": {},
     "output_type": "execute_result"
    }
   ],
   "source": [
    "from matplotlib import pyplot as plt\n",
    "import numpy as np\n",
    "import cv2\n",
    "\n",
    "img = cv2.imread('ponte.png')\n",
    "img = cv2.cvtColor(img, cv2.COLOR_BGR2GRAY)\n",
    "suave = cv2.GaussianBlur(img, (7, 7), 0) # aplica blur\n",
    "\n",
    "(T, bin) = cv2.threshold(suave, 160, 255, cv2.THRESH_BINARY)\n",
    "(T, binI) = cv2.threshold(suave, 160, 255, cv2.THRESH_BINARY_INV)\n",
    "resultado = np.vstack([\n",
    "np.hstack([suave, bin]),\n",
    "np.hstack([binI, cv2.bitwise_and(img, img, mask = binI)])\n",
    "])\n",
    "\n",
    "cv2.imshow(\"Binarização da imagem\", resultado)\n",
    "cv2.waitKey(0)"
   ]
  },
  {
   "cell_type": "code",
   "execution_count": 9,
   "metadata": {},
   "outputs": [
    {
     "data": {
      "text/plain": [
       "-1"
      ]
     },
     "execution_count": 9,
     "metadata": {},
     "output_type": "execute_result"
    }
   ],
   "source": [
    "from matplotlib import pyplot as plt\n",
    "import numpy as np\n",
    "import cv2\n",
    "\n",
    "img = cv2.imread('ponte.png')\n",
    "img = cv2.cvtColor(img, cv2.COLOR_BGR2GRAY) # converte\n",
    "suave = cv2.GaussianBlur(img, (7, 7), 0) # aplica blur\n",
    "bin1 = cv2.adaptiveThreshold(suave, 255, cv2.ADAPTIVE_THRESH_MEAN_C, cv2.THRESH_BINARY_INV, 21, 5)\n",
    "bin2 = cv2.adaptiveThreshold(suave, 255, cv2.ADAPTIVE_THRESH_GAUSSIAN_C, cv2.THRESH_BINARY_INV, 21, 5)\n",
    "resultado = np.vstack([\n",
    "np.hstack([img, suave]),\n",
    "np.hstack([bin1, bin2])\n",
    "])\n",
    "cv2.imshow(\"Binarização adaptativa da imagem\", resultado)\n",
    "cv2.waitKey(0)"
   ]
  },
  {
   "cell_type": "code",
   "execution_count": 10,
   "metadata": {},
   "outputs": [
    {
     "data": {
      "text/plain": [
       "-1"
      ]
     },
     "execution_count": 10,
     "metadata": {},
     "output_type": "execute_result"
    }
   ],
   "source": [
    "import mahotas\n",
    "import numpy as np\n",
    "import cv2\n",
    "img = cv2.imread('ponte.png')\n",
    "img = cv2.cvtColor(img, cv2.COLOR_BGR2GRAY) # converte\n",
    "suave = cv2.GaussianBlur(img, (7, 7), 0) # aplica blur\n",
    "T = mahotas.thresholding.otsu(suave)\n",
    "temp = img.copy()\n",
    "temp[temp > T] = 255\n",
    "temp[temp < 255] = 0\n",
    "temp = cv2.bitwise_not(temp)\n",
    "T = mahotas.thresholding.rc(suave)\n",
    "temp2 = img.copy()\n",
    "temp2[temp2 > T] = 255\n",
    "temp2[temp2 < 255] = 0\n",
    "temp2 = cv2.bitwise_not(temp2)\n",
    "resultado = np.vstack([\n",
    "np.hstack([img, suave]),\n",
    "np.hstack([temp, temp2])\n",
    "])\n",
    "cv2.imshow(\"Binarização com método Otsu e Riddler-Calvard\",\n",
    "resultado)\n",
    "cv2.waitKey(0)"
   ]
  },
  {
   "cell_type": "markdown",
   "metadata": {},
   "source": [
    "9 Segmentação e métodos de detecção de bordas"
   ]
  },
  {
   "cell_type": "code",
   "execution_count": 11,
   "metadata": {},
   "outputs": [
    {
     "data": {
      "text/plain": [
       "-1"
      ]
     },
     "execution_count": 11,
     "metadata": {},
     "output_type": "execute_result"
    }
   ],
   "source": [
    "import numpy as np\n",
    "import cv2\n",
    "img = cv2.imread('ponte.png')\n",
    "img = cv2.cvtColor(img, cv2.COLOR_BGR2GRAY)\n",
    "sobelX = cv2.Sobel(img, cv2.CV_64F, 1, 0)\n",
    "sobelY = cv2.Sobel(img, cv2.CV_64F, 0, 1)\n",
    "sobelX = np.uint8(np.absolute(sobelX))\n",
    "sobelY = np.uint8(np.absolute(sobelY))\n",
    "sobel = cv2.bitwise_or(sobelX, sobelY)\n",
    "resultado = np.vstack([\n",
    "np.hstack([img, sobelX]),\n",
    "np.hstack([sobelY, sobel])\n",
    "])\n",
    "cv2.imshow(\"Sobel\", resultado)\n",
    "cv2.waitKey(0)"
   ]
  },
  {
   "cell_type": "code",
   "execution_count": 12,
   "metadata": {},
   "outputs": [
    {
     "data": {
      "text/plain": [
       "-1"
      ]
     },
     "execution_count": 12,
     "metadata": {},
     "output_type": "execute_result"
    }
   ],
   "source": [
    "import numpy as np\n",
    "import cv2\n",
    "img = cv2.imread('ponte.png')\n",
    "img = cv2.cvtColor(img, cv2.COLOR_BGR2GRAY)\n",
    "lap = cv2.Laplacian(img, cv2.CV_64F)\n",
    "lap = np.uint8(np.absolute(lap))\n",
    "resultado = np.vstack([img, lap])\n",
    "cv2.imshow(\"Filtro Laplaciano\", resultado)\n",
    "cv2.waitKey(0)"
   ]
  },
  {
   "cell_type": "code",
   "execution_count": 13,
   "metadata": {},
   "outputs": [
    {
     "data": {
      "text/plain": [
       "-1"
      ]
     },
     "execution_count": 13,
     "metadata": {},
     "output_type": "execute_result"
    }
   ],
   "source": [
    "import numpy as np\n",
    "import cv2\n",
    "img = cv2.imread('ponte.png')\n",
    "img = cv2.cvtColor(img, cv2.COLOR_BGR2GRAY)\n",
    "suave = cv2.GaussianBlur(img, (7, 7), 0)\n",
    "canny1 = cv2.Canny(suave, 20, 120)\n",
    "canny2 = cv2.Canny(suave, 70, 200)\n",
    "resultado = np.vstack([\n",
    "np.hstack([img, suave ]),\n",
    "np.hstack([canny1, canny2])\n",
    "])\n",
    "cv2.imshow(\"Detector de Bordas Canny\", resultado)\n",
    "cv2.waitKey(0)"
   ]
  },
  {
   "cell_type": "markdown",
   "metadata": {},
   "source": [
    "10 Identificando e contando objetos"
   ]
  },
  {
   "cell_type": "code",
   "execution_count": 17,
   "metadata": {},
   "outputs": [
    {
     "data": {
      "text/plain": [
       "-1"
      ]
     },
     "execution_count": 17,
     "metadata": {},
     "output_type": "execute_result"
    }
   ],
   "source": [
    "import numpy as np\n",
    "import cv2\n",
    "import mahotas\n",
    "\n",
    "#Função para facilitar a escrita nas imagem\n",
    "\n",
    "def escreve(img, texto, cor=(255,0,0)):\n",
    "    fonte = cv2.FONT_HERSHEY_SIMPLEX\n",
    "    cv2.putText(img, texto, (10,20), fonte, 0.5, cor, 0, cv2.LINE_AA)\n",
    "\n",
    "imgColorida = cv2.imread('dados.jpg') #Carregamento da imagem\n",
    "\n",
    "#Se necessário o redimensioamento da imagem pode vir aqui.\n",
    "\n",
    "#Passo 1: Conversão para tons de cinza\n",
    "img = cv2.cvtColor(imgColorida, cv2.COLOR_BGR2GRAY)\n",
    "\n",
    "#Passo 2: Blur/Suavização da imagem\n",
    "suave = cv2.blur(img, (7, 7))\n",
    "\n",
    "#Passo 3: Binarização resultando em pixels brancos e pretos\n",
    "T = mahotas.thresholding.otsu(suave)\n",
    "bin = suave.copy()\n",
    "bin[bin > T] = 255\n",
    "bin[bin < 255] = 0\n",
    "bin = cv2.bitwise_not(bin)\n",
    "\n",
    "#Passo 4: Detecção de bordas com Canny\n",
    "bordas = cv2.Canny(bin, 70, 150)\n",
    "\n",
    "#Passo 5: Identificação e contagem dos contornos da imagem\n",
    "#cv2.RETR_EXTERNAL = conta apenas os contornos externos\n",
    "(objetos, lx) = cv2.findContours(bordas.copy(), cv2.RETR_EXTERNAL, cv2.CHAIN_APPROX_SIMPLE)\n",
    "\n",
    "#A variável lx (lixo) recebe dados que não são utilizados\n",
    "escreve(img, \"Imagem em tons de cinza\", 0)\n",
    "escreve(suave, \"Suavizacao com Blur\", 0)\n",
    "escreve(bin, \"Binarizacao com Metodo Otsu\", 255)\n",
    "escreve(bordas, \"Detector de bordas Canny\", 255)\n",
    "temp = np.vstack([\n",
    "    np.hstack([img, suave]),\n",
    "    np.hstack([bin, bordas])\n",
    "])\n",
    "cv2.imshow(\"Quantidade de objetos: \"+str(len(objetos)), temp)\n",
    "cv2.waitKey(0)\n",
    "\n",
    "imgC2 = imgColorida.copy()\n",
    "cv2.imshow(\"Imagem Original\", imgColorida)\n",
    "cv2.drawContours(imgC2, objetos, -1, (255, 0, 0), 2)\n",
    "escreve(imgC2, str(len(objetos))+\" objetos encontrados!\")\n",
    "cv2.imshow(\"Resultado\", imgC2)\n",
    "cv2.waitKey(0)"
   ]
  },
  {
   "cell_type": "markdown",
   "metadata": {},
   "source": [
    "11 Detecção de faces em imagens"
   ]
  },
  {
   "cell_type": "code",
   "execution_count": 36,
   "metadata": {},
   "outputs": [
    {
     "data": {
      "text/plain": [
       "-1"
      ]
     },
     "execution_count": 36,
     "metadata": {},
     "output_type": "execute_result"
    }
   ],
   "source": [
    "import cv2\n",
    "\n",
    "#Carrega arquivo e converte para tons de cinza\n",
    "i = cv2.imread('rostos.jpg')\n",
    "iPB = cv2.cvtColor(i, cv2.COLOR_BGR2GRAY)\n",
    "\n",
    "#Criação do detector de faces\n",
    "df = cv2.CascadeClassifier('haarcascade_frontalface_default.xml')\n",
    "\n",
    "#Executa a detecção\n",
    "faces = df.detectMultiScale(iPB, scaleFactor = 1.05, minNeighbors = 7, minSize = (30,30), flags = cv2.CASCADE_SCALE_IMAGE)\n",
    "\n",
    "#Desenha retangulos amarelos na iamgem original (colorida)\n",
    "for (x, y, w, h) in faces:\n",
    "    cv2.rectangle(i, (x, y), (x + w, y + h), (0, 255, 255), 7)\n",
    "\n",
    "#Exibe imagem. Título da janela exibe número de faces\n",
    "cv2.imshow(str(len(faces))+' face(s) encontrada(s).', i)\n",
    "cv2.waitKey(0)"
   ]
  },
  {
   "cell_type": "code",
   "execution_count": 41,
   "metadata": {},
   "outputs": [
    {
     "data": {
      "text/plain": [
       "-1"
      ]
     },
     "execution_count": 41,
     "metadata": {},
     "output_type": "execute_result"
    }
   ],
   "source": [
    "import os, cv2\n",
    "#Faz a varredura do diretório imagens buscando arquivos JPG, JPEG e PNG.\n",
    "\n",
    "diretorio = 'imagens'\n",
    "arquivos = os.listdir(diretorio)\n",
    "for a in arquivos:\n",
    "    if a.lower().endswith('.jpg') or a.lower().endswith('.png') or a.lower().endswith('.jpeg'):\n",
    "        imgC = cv2.imread(diretorio+'/'+a)\n",
    "        imgPB = cv2.cvtColor(imgC, cv2.COLOR_BGR2GRAY) \n",
    "    \n",
    "        df = cv2.CascadeClassifier('haarcascade_frontalface_default.xml')\n",
    "        faces = df.detectMultiScale(imgPB, scaleFactor = 1.2, minNeighbors = 7, minSize = (30,30), flags = cv2.CASCADE_SCALE_IMAGE)\n",
    "\n",
    "for (x, y, w, h) in faces:\n",
    "    cv2.rectangle(imgC, (x, y), (x + w, y + h), (0, 255, 255), 7)\n",
    "\n",
    "alt = int(imgC.shape[0]/imgC.shape[1]*640)\n",
    "imgC = cv2.resize(imgC, (640, alt), interpolation = cv2.INTER_CUBIC)\n",
    "cv2.imshow(str(len(faces))+' face(s) encontrada(s).', imgC)\n",
    "cv2.waitKey(0)"
   ]
  },
  {
   "cell_type": "markdown",
   "metadata": {},
   "source": [
    "12 Detecção de faces em vídeos"
   ]
  },
  {
   "cell_type": "code",
   "execution_count": 43,
   "metadata": {},
   "outputs": [],
   "source": [
    "import cv2\n",
    "def redim(img, largura): #função para redimensionar uma imagem\n",
    "    alt = int(img.shape[0]/img.shape[1]*largura)\n",
    "    img = cv2.resize(img, (largura, alt), interpolation = cv2.INTER_AREA)\n",
    "    return img\n",
    "\n",
    "#Cria o detector de faces baseado no XML\n",
    "df = cv2.CascadeClassifier('haarcascade_frontalface_default.xml')\n",
    "\n",
    "#Abre um vídeo gravado em disco\n",
    "camera = cv2.VideoCapture('video.mp4')\n",
    "\n",
    "#Também é possível abrir a próprio webcam\n",
    "#do sistema para isso segue código abaixo\n",
    "#camera = cv2.VideoCapture(0)  \n",
    "while True:\n",
    "    #read() retorna 1-Se houve sucesso e 2-O próprio frame\n",
    "    (sucesso, frame) = camera.read()\n",
    "    if not sucesso: #final do vídeo\n",
    "        break\n",
    "\n",
    "    #reduz tamanho do frame para acelerar processamento\n",
    "    frame = redim(frame, 320)\n",
    "\n",
    "    #converte para tons de cinza\n",
    "    frame_pb = cv2.cvtColor(frame, cv2.COLOR_BGR2GRAY)\n",
    "\n",
    "    #detecta as faces no frame\n",
    "    faces = df.detectMultiScale(frame_pb, scaleFactor = 1.1, minNeighbors=3, minSize=(20,20), flags=cv2.CASCADE_SCALE_IMAGE)\n",
    "    frame_temp = frame.copy()\n",
    "\n",
    "    for (x, y, lar, alt) in faces:\n",
    "        cv2.rectangle(frame_temp, (x, y), (x + lar, y + alt), (0, 255, 255), 2)\n",
    "\n",
    "    #Exibe um frame redimensionado (com perca de qualidade)\n",
    "    cv2.imshow(\"Encontrando faces...\", redim(frame_temp, 640))\n",
    "\n",
    "    #Espera que a tecla 's' seja pressionada para sair\n",
    "    if cv2.waitKey(1) & 0xFF == ord(\"s\"):\n",
    "        break\n",
    "\n",
    "#fecha streaming\n",
    "camera.release()\n",
    "cv2.destroyAllWindows()"
   ]
  },
  {
   "cell_type": "markdown",
   "metadata": {},
   "source": [
    "13 Rastreamento de objetos em vídeos"
   ]
  },
  {
   "cell_type": "code",
   "execution_count": 45,
   "metadata": {},
   "outputs": [],
   "source": [
    "import numpy as np\n",
    "import cv2\n",
    "\n",
    "azulEscuro = np.array([100, 67, 0], dtype = \"uint8\")\n",
    "azulClaro = np.array([255, 128, 50], dtype = \"uint8\")\n",
    "\n",
    "#camera = cv2.VideoCapture(args[\"video\"])\n",
    "camera = cv2.VideoCapture('video.mp4')\n",
    "while True:\n",
    "    (sucesso, frame) = camera.read()\n",
    "    if not sucesso:\n",
    "        break\n",
    "    obj = cv2.inRange(frame, azulEscuro, azulClaro)\n",
    "    obj = cv2.GaussianBlur(obj, (3, 3), 0)\n",
    "    (cnts, _) = cv2.findContours(obj.copy(), cv2.RETR_EXTERNAL, cv2.CHAIN_APPROX_SIMPLE)\n",
    "    if len(cnts) > 0:\n",
    "        cnt = sorted(cnts, key = cv2.contourArea, reverse = True)[0]\n",
    "        rect = np.int32(cv2.boxPoints(cv2.minAreaRect(cnt)))\n",
    "    cv2.drawContours(frame, cnts, -1, (0, 255, 255),2)\n",
    "    cv2.imshow(\"Tracking\", frame)\n",
    "    cv2.imshow(\"Binary\", obj)\n",
    "    if cv2.waitKey(1) & 0xFF == ord(\"q\"):\n",
    "        break\n",
    "    \n",
    "camera.release()\n",
    "cv2.destroyAllWindows()"
   ]
  },
  {
   "cell_type": "markdown",
   "metadata": {},
   "source": [
    "14 Reconhecimento de caracteres"
   ]
  },
  {
   "cell_type": "code",
   "execution_count": 48,
   "metadata": {},
   "outputs": [
    {
     "data": {
      "text/plain": [
       "-1"
      ]
     },
     "execution_count": 48,
     "metadata": {},
     "output_type": "execute_result"
    }
   ],
   "source": [
    "import cv2\n",
    "from PIL import Image\n",
    "import string\n",
    "import re\n",
    "\n",
    "img2 = cv2.imread(\"placa-carro.jpg\")\n",
    "img = cv2.cvtColor(img2, cv2.COLOR_BGR2GRAY)\n",
    "(T,Thresh1) = cv2.threshold(img, 44, 54, cv2.THRESH_TRUNC)\n",
    "(T,Thresh3) = cv2.threshold(Thresh1, 43, 44, cv2.THRESH_BINARY)\n",
    "(T,Thresh2) = cv2.threshold(Thresh3, 0 ,255, cv2.ADAPTIVE_THRESH_GAUSSIAN_C)\n",
    "(T,Thresh4) = cv2.threshold(Thresh2, 30, 255, cv2.CALIB_CB_ADAPTIVE_THRESH)\n",
    "\n",
    "cv2.imshow(\"Imagem 01\", Thresh4)\n",
    "cv2.waitKey(0)"
   ]
  },
  {
   "cell_type": "code",
   "execution_count": null,
   "metadata": {},
   "outputs": [],
   "source": [
    "from random import *\n",
    "letras = [\"A\",\"B\",\"C\",\"D\",\"E\",\"F\",\"G\",\"H\",\"I\",\"J\",\"K\",\"L\",\"M\",\"N\",\"O\",\"P\",\"Q\",\"R\",\"S\",\"T\",\"U\",\"V\",\"W\",\"X\",\"Y\",\"Z\"]\n",
    "num = [\"0\", \"1\", \"2\", \"3\", \"4\",\"5\", \"6\", \"7\", \"8\", \"9\"]\n",
    "a = 0\n",
    "while(a>=0):\n",
    "    x = randint (0,25)\n",
    "    y = randint (0,25)\n",
    "    z = randint (0,25)\n",
    "    a = randint (0, 9)\n",
    "    b = randint (0, 9)\n",
    "    c = randint (0, 9)\n",
    "    d = randint (0, 9)\n",
    "    res = letras[x]+letras[y]+letras[z]+\"-\"+num[a]+num[b]+num[c]+num[d]\n",
    "    print(res)\n",
    "    a+=1"
   ]
  },
  {
   "cell_type": "code",
   "execution_count": null,
   "metadata": {},
   "outputs": [],
   "source": [
    "import cv2\n",
    "import pytesseract\n",
    "from PIL import Image\n",
    "import string\n",
    "import re\n",
    "\n",
    "img2 = cv2.imread(\"placa-carro.jpg\")\n",
    "img = cv2.cvtColor(img2, cv2.COLOR_BGR2GRAY)\n",
    "(T,Thresh1) = cv2.threshold(img, 40, 50, cv2.THRESH_TRUNC)\n",
    "(T,Thresh3) = cv2.threshold(Thresh1, 26, 44, cv2.THRESH_BINARY)\n",
    "(T,Thresh2) = cv2.threshold(Thresh3, 0 ,255, cv2.ADAPTIVE_THRESH_GAUSSIAN_C)\n",
    "(T,Thresh4) = cv2.threshold(Thresh2, 30, 255, cv2.CALIB_CB_ADAPTIVE_THRESH)\n",
    "\n",
    "pronta = cv2.resize(Thresh4, (300, 200))\n",
    "pronta1 = cv2.GaussianBlur(pronta, (9,9), 1000)\n",
    "cv2.imwrite(\"placa.jpg\", pronta1)\n",
    "caracs = pytesseract.image_to_string(Image.open(\"placa.jpg\"), lang=\"mdt\")\n",
    "letras = caracs[:3]\n",
    "num = caracs[4:8]\n",
    "num = num.replace('O', \"0\")\n",
    "num = num.replace('I', \"1\")\n",
    "letras = letras.replace('0', \"O\")\n",
    "letras = letras.replace('1', \"I\")\n",
    "num = num.replace('G', \"6\")\n",
    "letras = letras.replace('6', \"G\")\n",
    "num = num.replace('B', \"3\")\n",
    "letras = letras.replace('3', \"B\")\n",
    "num = num.replace('T', \"1\")\n",
    "letras = letras.replace('1', \"T\")\n",
    "print(\"A placa é (sem modificações): \" + caracs)\n",
    "print(\"A placa é (com modificações): \" + letras + '-' + num)"
   ]
  }
 ],
 "metadata": {
  "kernelspec": {
   "display_name": "Python 3",
   "language": "python",
   "name": "python3"
  },
  "language_info": {
   "codemirror_mode": {
    "name": "ipython",
    "version": 3
   },
   "file_extension": ".py",
   "mimetype": "text/x-python",
   "name": "python",
   "nbconvert_exporter": "python",
   "pygments_lexer": "ipython3",
   "version": "3.12.3"
  }
 },
 "nbformat": 4,
 "nbformat_minor": 2
}
